{
 "cells": [
  {
   "cell_type": "code",
   "execution_count": 3,
   "metadata": {
    "collapsed": true
   },
   "outputs": [],
   "source": [
    "import pandas as pd\n",
    "import numpy as np\n",
    "from matplotlib import pyplot as plt\n",
    "import seaborn as sns\n",
    "from sklearn.metrics import accuracy_score, f1_score, precision_score, recall_score, roc_auc_score\n",
    "from sklearn.model_selection import train_test_split\n",
    "from sklearn.tree import DecisionTreeClassifier\n",
    "from sklearn.ensemble import RandomForestClassifier"
   ]
  },
  {
   "cell_type": "code",
   "execution_count": 4,
   "outputs": [],
   "source": [
    "path = \"/home/user/Desktop/fer/semestar7/podaci/labosi/projekt1/zop_project/anonymisedData/\"\n",
    "\n",
    "assessments = pd.read_csv(path + \"assessments.csv\")\n",
    "courses = pd.read_csv(path + \"courses.csv\")\n",
    "studentAssessment = pd.read_csv(path + \"studentAssessment.csv\")\n",
    "studentInfo = pd.read_csv(path + \"studentInfo.csv\")\n",
    "studentRegistration = pd.read_csv(path + \"studentRegistration.csv\")\n",
    "studentVle = pd.read_csv(path + \"studentVle.csv\")\n",
    "vle = pd.read_csv(path + \"vle.csv\")"
   ],
   "metadata": {
    "collapsed": false,
    "pycharm": {
     "name": "#%%\n"
    }
   }
  },
  {
   "cell_type": "code",
   "execution_count": 5,
   "outputs": [
    {
     "data": {
      "text/plain": "  code_module code_presentation  id_assessment assessment_type   date  weight\n0         AAA             2013J           1752             TMA   19.0    10.0\n1         AAA             2013J           1753             TMA   54.0    20.0\n2         AAA             2013J           1754             TMA  117.0    20.0\n3         AAA             2013J           1755             TMA  166.0    20.0\n4         AAA             2013J           1756             TMA  215.0    30.0",
      "text/html": "<div>\n<style scoped>\n    .dataframe tbody tr th:only-of-type {\n        vertical-align: middle;\n    }\n\n    .dataframe tbody tr th {\n        vertical-align: top;\n    }\n\n    .dataframe thead th {\n        text-align: right;\n    }\n</style>\n<table border=\"1\" class=\"dataframe\">\n  <thead>\n    <tr style=\"text-align: right;\">\n      <th></th>\n      <th>code_module</th>\n      <th>code_presentation</th>\n      <th>id_assessment</th>\n      <th>assessment_type</th>\n      <th>date</th>\n      <th>weight</th>\n    </tr>\n  </thead>\n  <tbody>\n    <tr>\n      <th>0</th>\n      <td>AAA</td>\n      <td>2013J</td>\n      <td>1752</td>\n      <td>TMA</td>\n      <td>19.0</td>\n      <td>10.0</td>\n    </tr>\n    <tr>\n      <th>1</th>\n      <td>AAA</td>\n      <td>2013J</td>\n      <td>1753</td>\n      <td>TMA</td>\n      <td>54.0</td>\n      <td>20.0</td>\n    </tr>\n    <tr>\n      <th>2</th>\n      <td>AAA</td>\n      <td>2013J</td>\n      <td>1754</td>\n      <td>TMA</td>\n      <td>117.0</td>\n      <td>20.0</td>\n    </tr>\n    <tr>\n      <th>3</th>\n      <td>AAA</td>\n      <td>2013J</td>\n      <td>1755</td>\n      <td>TMA</td>\n      <td>166.0</td>\n      <td>20.0</td>\n    </tr>\n    <tr>\n      <th>4</th>\n      <td>AAA</td>\n      <td>2013J</td>\n      <td>1756</td>\n      <td>TMA</td>\n      <td>215.0</td>\n      <td>30.0</td>\n    </tr>\n  </tbody>\n</table>\n</div>"
     },
     "execution_count": 5,
     "metadata": {},
     "output_type": "execute_result"
    }
   ],
   "source": [
    "assessments.head()"
   ],
   "metadata": {
    "collapsed": false,
    "pycharm": {
     "name": "#%%\n"
    }
   }
  },
  {
   "cell_type": "code",
   "execution_count": 6,
   "outputs": [
    {
     "data": {
      "text/plain": "  code_module code_presentation  module_presentation_length\n0         AAA             2013J                         268\n1         AAA             2014J                         269\n2         BBB             2013J                         268\n3         BBB             2014J                         262\n4         BBB             2013B                         240",
      "text/html": "<div>\n<style scoped>\n    .dataframe tbody tr th:only-of-type {\n        vertical-align: middle;\n    }\n\n    .dataframe tbody tr th {\n        vertical-align: top;\n    }\n\n    .dataframe thead th {\n        text-align: right;\n    }\n</style>\n<table border=\"1\" class=\"dataframe\">\n  <thead>\n    <tr style=\"text-align: right;\">\n      <th></th>\n      <th>code_module</th>\n      <th>code_presentation</th>\n      <th>module_presentation_length</th>\n    </tr>\n  </thead>\n  <tbody>\n    <tr>\n      <th>0</th>\n      <td>AAA</td>\n      <td>2013J</td>\n      <td>268</td>\n    </tr>\n    <tr>\n      <th>1</th>\n      <td>AAA</td>\n      <td>2014J</td>\n      <td>269</td>\n    </tr>\n    <tr>\n      <th>2</th>\n      <td>BBB</td>\n      <td>2013J</td>\n      <td>268</td>\n    </tr>\n    <tr>\n      <th>3</th>\n      <td>BBB</td>\n      <td>2014J</td>\n      <td>262</td>\n    </tr>\n    <tr>\n      <th>4</th>\n      <td>BBB</td>\n      <td>2013B</td>\n      <td>240</td>\n    </tr>\n  </tbody>\n</table>\n</div>"
     },
     "execution_count": 6,
     "metadata": {},
     "output_type": "execute_result"
    }
   ],
   "source": [
    "courses.head()"
   ],
   "metadata": {
    "collapsed": false,
    "pycharm": {
     "name": "#%%\n"
    }
   }
  },
  {
   "cell_type": "code",
   "execution_count": 7,
   "outputs": [
    {
     "data": {
      "text/plain": "   id_assessment  id_student  date_submitted  is_banked  score\n0           1752       11391              18          0   78.0\n1           1752       28400              22          0   70.0\n2           1752       31604              17          0   72.0\n3           1752       32885              26          0   69.0\n4           1752       38053              19          0   79.0",
      "text/html": "<div>\n<style scoped>\n    .dataframe tbody tr th:only-of-type {\n        vertical-align: middle;\n    }\n\n    .dataframe tbody tr th {\n        vertical-align: top;\n    }\n\n    .dataframe thead th {\n        text-align: right;\n    }\n</style>\n<table border=\"1\" class=\"dataframe\">\n  <thead>\n    <tr style=\"text-align: right;\">\n      <th></th>\n      <th>id_assessment</th>\n      <th>id_student</th>\n      <th>date_submitted</th>\n      <th>is_banked</th>\n      <th>score</th>\n    </tr>\n  </thead>\n  <tbody>\n    <tr>\n      <th>0</th>\n      <td>1752</td>\n      <td>11391</td>\n      <td>18</td>\n      <td>0</td>\n      <td>78.0</td>\n    </tr>\n    <tr>\n      <th>1</th>\n      <td>1752</td>\n      <td>28400</td>\n      <td>22</td>\n      <td>0</td>\n      <td>70.0</td>\n    </tr>\n    <tr>\n      <th>2</th>\n      <td>1752</td>\n      <td>31604</td>\n      <td>17</td>\n      <td>0</td>\n      <td>72.0</td>\n    </tr>\n    <tr>\n      <th>3</th>\n      <td>1752</td>\n      <td>32885</td>\n      <td>26</td>\n      <td>0</td>\n      <td>69.0</td>\n    </tr>\n    <tr>\n      <th>4</th>\n      <td>1752</td>\n      <td>38053</td>\n      <td>19</td>\n      <td>0</td>\n      <td>79.0</td>\n    </tr>\n  </tbody>\n</table>\n</div>"
     },
     "execution_count": 7,
     "metadata": {},
     "output_type": "execute_result"
    }
   ],
   "source": [
    "studentAssessment.head()"
   ],
   "metadata": {
    "collapsed": false,
    "pycharm": {
     "name": "#%%\n"
    }
   }
  },
  {
   "cell_type": "code",
   "execution_count": 8,
   "outputs": [
    {
     "data": {
      "text/plain": "  code_module code_presentation  id_student gender                region  \\\n0         AAA             2013J       11391      M   East Anglian Region   \n1         AAA             2013J       28400      F              Scotland   \n2         AAA             2013J       30268      F  North Western Region   \n3         AAA             2013J       31604      F     South East Region   \n4         AAA             2013J       32885      F  West Midlands Region   \n\n       highest_education imd_band age_band  num_of_prev_attempts  \\\n0       HE Qualification  90-100%     55<=                     0   \n1       HE Qualification   20-30%    35-55                     0   \n2  A Level or Equivalent   30-40%    35-55                     0   \n3  A Level or Equivalent   50-60%    35-55                     0   \n4     Lower Than A Level   50-60%     0-35                     0   \n\n   studied_credits disability final_result  \n0              240          N         Pass  \n1               60          N         Pass  \n2               60          Y    Withdrawn  \n3               60          N         Pass  \n4               60          N         Pass  ",
      "text/html": "<div>\n<style scoped>\n    .dataframe tbody tr th:only-of-type {\n        vertical-align: middle;\n    }\n\n    .dataframe tbody tr th {\n        vertical-align: top;\n    }\n\n    .dataframe thead th {\n        text-align: right;\n    }\n</style>\n<table border=\"1\" class=\"dataframe\">\n  <thead>\n    <tr style=\"text-align: right;\">\n      <th></th>\n      <th>code_module</th>\n      <th>code_presentation</th>\n      <th>id_student</th>\n      <th>gender</th>\n      <th>region</th>\n      <th>highest_education</th>\n      <th>imd_band</th>\n      <th>age_band</th>\n      <th>num_of_prev_attempts</th>\n      <th>studied_credits</th>\n      <th>disability</th>\n      <th>final_result</th>\n    </tr>\n  </thead>\n  <tbody>\n    <tr>\n      <th>0</th>\n      <td>AAA</td>\n      <td>2013J</td>\n      <td>11391</td>\n      <td>M</td>\n      <td>East Anglian Region</td>\n      <td>HE Qualification</td>\n      <td>90-100%</td>\n      <td>55&lt;=</td>\n      <td>0</td>\n      <td>240</td>\n      <td>N</td>\n      <td>Pass</td>\n    </tr>\n    <tr>\n      <th>1</th>\n      <td>AAA</td>\n      <td>2013J</td>\n      <td>28400</td>\n      <td>F</td>\n      <td>Scotland</td>\n      <td>HE Qualification</td>\n      <td>20-30%</td>\n      <td>35-55</td>\n      <td>0</td>\n      <td>60</td>\n      <td>N</td>\n      <td>Pass</td>\n    </tr>\n    <tr>\n      <th>2</th>\n      <td>AAA</td>\n      <td>2013J</td>\n      <td>30268</td>\n      <td>F</td>\n      <td>North Western Region</td>\n      <td>A Level or Equivalent</td>\n      <td>30-40%</td>\n      <td>35-55</td>\n      <td>0</td>\n      <td>60</td>\n      <td>Y</td>\n      <td>Withdrawn</td>\n    </tr>\n    <tr>\n      <th>3</th>\n      <td>AAA</td>\n      <td>2013J</td>\n      <td>31604</td>\n      <td>F</td>\n      <td>South East Region</td>\n      <td>A Level or Equivalent</td>\n      <td>50-60%</td>\n      <td>35-55</td>\n      <td>0</td>\n      <td>60</td>\n      <td>N</td>\n      <td>Pass</td>\n    </tr>\n    <tr>\n      <th>4</th>\n      <td>AAA</td>\n      <td>2013J</td>\n      <td>32885</td>\n      <td>F</td>\n      <td>West Midlands Region</td>\n      <td>Lower Than A Level</td>\n      <td>50-60%</td>\n      <td>0-35</td>\n      <td>0</td>\n      <td>60</td>\n      <td>N</td>\n      <td>Pass</td>\n    </tr>\n  </tbody>\n</table>\n</div>"
     },
     "execution_count": 8,
     "metadata": {},
     "output_type": "execute_result"
    }
   ],
   "source": [
    "studentInfo.head()"
   ],
   "metadata": {
    "collapsed": false,
    "pycharm": {
     "name": "#%%\n"
    }
   }
  },
  {
   "cell_type": "code",
   "execution_count": 9,
   "outputs": [
    {
     "data": {
      "text/plain": "  code_module code_presentation  id_student  date_registration  \\\n0         AAA             2013J       11391             -159.0   \n1         AAA             2013J       28400              -53.0   \n2         AAA             2013J       30268              -92.0   \n3         AAA             2013J       31604              -52.0   \n4         AAA             2013J       32885             -176.0   \n\n   date_unregistration  \n0                  NaN  \n1                  NaN  \n2                 12.0  \n3                  NaN  \n4                  NaN  ",
      "text/html": "<div>\n<style scoped>\n    .dataframe tbody tr th:only-of-type {\n        vertical-align: middle;\n    }\n\n    .dataframe tbody tr th {\n        vertical-align: top;\n    }\n\n    .dataframe thead th {\n        text-align: right;\n    }\n</style>\n<table border=\"1\" class=\"dataframe\">\n  <thead>\n    <tr style=\"text-align: right;\">\n      <th></th>\n      <th>code_module</th>\n      <th>code_presentation</th>\n      <th>id_student</th>\n      <th>date_registration</th>\n      <th>date_unregistration</th>\n    </tr>\n  </thead>\n  <tbody>\n    <tr>\n      <th>0</th>\n      <td>AAA</td>\n      <td>2013J</td>\n      <td>11391</td>\n      <td>-159.0</td>\n      <td>NaN</td>\n    </tr>\n    <tr>\n      <th>1</th>\n      <td>AAA</td>\n      <td>2013J</td>\n      <td>28400</td>\n      <td>-53.0</td>\n      <td>NaN</td>\n    </tr>\n    <tr>\n      <th>2</th>\n      <td>AAA</td>\n      <td>2013J</td>\n      <td>30268</td>\n      <td>-92.0</td>\n      <td>12.0</td>\n    </tr>\n    <tr>\n      <th>3</th>\n      <td>AAA</td>\n      <td>2013J</td>\n      <td>31604</td>\n      <td>-52.0</td>\n      <td>NaN</td>\n    </tr>\n    <tr>\n      <th>4</th>\n      <td>AAA</td>\n      <td>2013J</td>\n      <td>32885</td>\n      <td>-176.0</td>\n      <td>NaN</td>\n    </tr>\n  </tbody>\n</table>\n</div>"
     },
     "execution_count": 9,
     "metadata": {},
     "output_type": "execute_result"
    }
   ],
   "source": [
    "studentRegistration.head()"
   ],
   "metadata": {
    "collapsed": false,
    "pycharm": {
     "name": "#%%\n"
    }
   }
  },
  {
   "cell_type": "code",
   "execution_count": 10,
   "outputs": [
    {
     "data": {
      "text/plain": "  code_module code_presentation  id_student  id_site  date  sum_click\n0         AAA             2013J       28400   546652   -10          4\n1         AAA             2013J       28400   546652   -10          1\n2         AAA             2013J       28400   546652   -10          1\n3         AAA             2013J       28400   546614   -10         11\n4         AAA             2013J       28400   546714   -10          1",
      "text/html": "<div>\n<style scoped>\n    .dataframe tbody tr th:only-of-type {\n        vertical-align: middle;\n    }\n\n    .dataframe tbody tr th {\n        vertical-align: top;\n    }\n\n    .dataframe thead th {\n        text-align: right;\n    }\n</style>\n<table border=\"1\" class=\"dataframe\">\n  <thead>\n    <tr style=\"text-align: right;\">\n      <th></th>\n      <th>code_module</th>\n      <th>code_presentation</th>\n      <th>id_student</th>\n      <th>id_site</th>\n      <th>date</th>\n      <th>sum_click</th>\n    </tr>\n  </thead>\n  <tbody>\n    <tr>\n      <th>0</th>\n      <td>AAA</td>\n      <td>2013J</td>\n      <td>28400</td>\n      <td>546652</td>\n      <td>-10</td>\n      <td>4</td>\n    </tr>\n    <tr>\n      <th>1</th>\n      <td>AAA</td>\n      <td>2013J</td>\n      <td>28400</td>\n      <td>546652</td>\n      <td>-10</td>\n      <td>1</td>\n    </tr>\n    <tr>\n      <th>2</th>\n      <td>AAA</td>\n      <td>2013J</td>\n      <td>28400</td>\n      <td>546652</td>\n      <td>-10</td>\n      <td>1</td>\n    </tr>\n    <tr>\n      <th>3</th>\n      <td>AAA</td>\n      <td>2013J</td>\n      <td>28400</td>\n      <td>546614</td>\n      <td>-10</td>\n      <td>11</td>\n    </tr>\n    <tr>\n      <th>4</th>\n      <td>AAA</td>\n      <td>2013J</td>\n      <td>28400</td>\n      <td>546714</td>\n      <td>-10</td>\n      <td>1</td>\n    </tr>\n  </tbody>\n</table>\n</div>"
     },
     "execution_count": 10,
     "metadata": {},
     "output_type": "execute_result"
    }
   ],
   "source": [
    "studentVle.head()"
   ],
   "metadata": {
    "collapsed": false,
    "pycharm": {
     "name": "#%%\n"
    }
   }
  },
  {
   "cell_type": "code",
   "execution_count": 11,
   "outputs": [
    {
     "data": {
      "text/plain": "   id_site code_module code_presentation activity_type  week_from  week_to\n0   546943         AAA             2013J      resource        NaN      NaN\n1   546712         AAA             2013J     oucontent        NaN      NaN\n2   546998         AAA             2013J      resource        NaN      NaN\n3   546888         AAA             2013J           url        NaN      NaN\n4   547035         AAA             2013J      resource        NaN      NaN",
      "text/html": "<div>\n<style scoped>\n    .dataframe tbody tr th:only-of-type {\n        vertical-align: middle;\n    }\n\n    .dataframe tbody tr th {\n        vertical-align: top;\n    }\n\n    .dataframe thead th {\n        text-align: right;\n    }\n</style>\n<table border=\"1\" class=\"dataframe\">\n  <thead>\n    <tr style=\"text-align: right;\">\n      <th></th>\n      <th>id_site</th>\n      <th>code_module</th>\n      <th>code_presentation</th>\n      <th>activity_type</th>\n      <th>week_from</th>\n      <th>week_to</th>\n    </tr>\n  </thead>\n  <tbody>\n    <tr>\n      <th>0</th>\n      <td>546943</td>\n      <td>AAA</td>\n      <td>2013J</td>\n      <td>resource</td>\n      <td>NaN</td>\n      <td>NaN</td>\n    </tr>\n    <tr>\n      <th>1</th>\n      <td>546712</td>\n      <td>AAA</td>\n      <td>2013J</td>\n      <td>oucontent</td>\n      <td>NaN</td>\n      <td>NaN</td>\n    </tr>\n    <tr>\n      <th>2</th>\n      <td>546998</td>\n      <td>AAA</td>\n      <td>2013J</td>\n      <td>resource</td>\n      <td>NaN</td>\n      <td>NaN</td>\n    </tr>\n    <tr>\n      <th>3</th>\n      <td>546888</td>\n      <td>AAA</td>\n      <td>2013J</td>\n      <td>url</td>\n      <td>NaN</td>\n      <td>NaN</td>\n    </tr>\n    <tr>\n      <th>4</th>\n      <td>547035</td>\n      <td>AAA</td>\n      <td>2013J</td>\n      <td>resource</td>\n      <td>NaN</td>\n      <td>NaN</td>\n    </tr>\n  </tbody>\n</table>\n</div>"
     },
     "execution_count": 11,
     "metadata": {},
     "output_type": "execute_result"
    }
   ],
   "source": [
    "vle.head()"
   ],
   "metadata": {
    "collapsed": false,
    "pycharm": {
     "name": "#%%\n"
    }
   }
  },
  {
   "cell_type": "code",
   "execution_count": 12,
   "outputs": [
    {
     "data": {
      "text/plain": "<Figure size 432x288 with 1 Axes>",
      "image/png": "[encoded data removed]"
     },
     "metadata": {},
     "output_type": "display_data"
    }
   ],
   "source": [
    "sns.set_theme(style=\"darkgrid\")\n",
    "\n",
    "ax = sns.countplot(y=\"final_result\", data=studentInfo)"
   ],
   "metadata": {
    "collapsed": false,
    "pycharm": {
     "name": "#%%\n"
    }
   }
  },
  {
   "cell_type": "code",
   "execution_count": 13,
   "outputs": [
    {
     "name": "stdout",
     "output_type": "stream",
     "text": [
      "  code_module  date\n",
      "0         AAA  19.0\n",
      "1         BBB  12.0\n",
      "2         CCC  18.0\n",
      "3         DDD  20.0\n",
      "4         EEE  33.0\n",
      "5         FFF  19.0\n",
      "6         GGG  61.0\n",
      "Empty DataFrame\n",
      "Columns: [code_module, date]\n",
      "Index: []\n"
     ]
    }
   ],
   "source": [
    "assesments_pom = assessments.groupby(\"code_module\", as_index = False).agg({\n",
    "    \"date\" : \"min\"\n",
    "})\n",
    "print(assesments_pom)\n",
    "print(assesments_pom.head(0))"
   ],
   "metadata": {
    "collapsed": false,
    "pycharm": {
     "name": "#%%\n"
    }
   }
  },
  {
   "cell_type": "code",
   "execution_count": 14,
   "outputs": [
    {
     "name": "stdout",
     "output_type": "stream",
     "text": [
      "  code_module  size\n",
      "0         AAA   748\n",
      "1         BBB  7909\n",
      "2         CCC  4434\n",
      "3         DDD  6272\n",
      "4         EEE  2934\n",
      "5         FFF  7762\n",
      "6         GGG  2534\n",
      "Empty DataFrame\n",
      "Columns: [code_module, size]\n",
      "Index: []\n"
     ]
    }
   ],
   "source": [
    "studentRegistration_pom = studentRegistration.groupby(\"code_module\", as_index = False).size()\n",
    "print(studentRegistration_pom)\n",
    "print(studentRegistration_pom.head(0))"
   ],
   "metadata": {
    "collapsed": false,
    "pycharm": {
     "name": "#%%\n"
    }
   }
  },
  {
   "cell_type": "code",
   "execution_count": 15,
   "outputs": [
    {
     "name": "stdout",
     "output_type": "stream",
     "text": [
      "['AAA' 19.0 748]\n",
      "['BBB' 12.0 7909]\n",
      "['CCC' 18.0 4434]\n",
      "['DDD' 20.0 6272]\n",
      "['EEE' 33.0 2934]\n",
      "['FFF' 19.0 7762]\n",
      "['GGG' 61.0 2534]\n"
     ]
    }
   ],
   "source": [
    "assesments_pom_studentRegistration_pom_table = pd.merge(assesments_pom, studentRegistration_pom, on = \"code_module\")\n",
    "\n",
    "i = 0\n",
    "\n",
    "for course in assesments_pom_studentRegistration_pom_table.values:\n",
    "    assesments_pom_studentRegistration_pom_table.loc[i] = [course[0], \"Day \" + str(int(course[1])), course[2]]\n",
    "    i += 1\n",
    "    print(course)"
   ],
   "metadata": {
    "collapsed": false,
    "pycharm": {
     "name": "#%%\n"
    }
   }
  },
  {
   "cell_type": "code",
   "execution_count": 16,
   "outputs": [
    {
     "name": "stdout",
     "output_type": "stream",
     "text": [
      "{'2014', '2013'}\n",
      "{'2014', '2013'}\n",
      "{'2014'}\n",
      "{'2014', '2013'}\n",
      "{'2014', '2013'}\n",
      "{'2014', '2013'}\n",
      "{'2014', '2013'}\n",
      "['2014 & 2013', '2014 & 2013', '2014', '2014 & 2013', '2014 & 2013', '2014 & 2013', '2014 & 2013']\n"
     ]
    }
   ],
   "source": [
    "courses_pom = courses[\"code_module\"].unique()\n",
    "course_year_row = []\n",
    "for course in courses_pom:\n",
    "    pom_list_a = assessments.loc[assessments[\"code_module\"] == course][\"code_presentation\"].unique()\n",
    "    pom_list_b = []\n",
    "    for el in pom_list_a:\n",
    "        pom_list_b.append(el[:-1])\n",
    "    pom_list_b = set(pom_list_b)\n",
    "    print(pom_list_b)\n",
    "\n",
    "    course_year_row.append(\" & \".join(pom_list_b))\n",
    "print(course_year_row)"
   ],
   "metadata": {
    "collapsed": false,
    "pycharm": {
     "name": "#%%\n"
    }
   }
  },
  {
   "cell_type": "code",
   "execution_count": 17,
   "outputs": [],
   "source": [
    "assesments_pom_studentRegistration_pom_table[\"Year(run)\"] = course_year_row"
   ],
   "metadata": {
    "collapsed": false,
    "pycharm": {
     "name": "#%%\n"
    }
   }
  },
  {
   "cell_type": "code",
   "execution_count": 18,
   "outputs": [
    {
     "data": {
      "text/plain": "  Course 1st assignment submission day  # of registered students    Year(run)\n0    AAA                        Day 19                       748  2014 & 2013\n1    BBB                        Day 12                      7909  2014 & 2013\n2    CCC                        Day 18                      4434         2014\n3    DDD                        Day 20                      6272  2014 & 2013\n4    EEE                        Day 33                      2934  2014 & 2013\n5    FFF                        Day 19                      7762  2014 & 2013\n6    GGG                        Day 61                      2534  2014 & 2013",
      "text/html": "<div>\n<style scoped>\n    .dataframe tbody tr th:only-of-type {\n        vertical-align: middle;\n    }\n\n    .dataframe tbody tr th {\n        vertical-align: top;\n    }\n\n    .dataframe thead th {\n        text-align: right;\n    }\n</style>\n<table border=\"1\" class=\"dataframe\">\n  <thead>\n    <tr style=\"text-align: right;\">\n      <th></th>\n      <th>Course</th>\n      <th>1st assignment submission day</th>\n      <th># of registered students</th>\n      <th>Year(run)</th>\n    </tr>\n  </thead>\n  <tbody>\n    <tr>\n      <th>0</th>\n      <td>AAA</td>\n      <td>Day 19</td>\n      <td>748</td>\n      <td>2014 &amp; 2013</td>\n    </tr>\n    <tr>\n      <th>1</th>\n      <td>BBB</td>\n      <td>Day 12</td>\n      <td>7909</td>\n      <td>2014 &amp; 2013</td>\n    </tr>\n    <tr>\n      <th>2</th>\n      <td>CCC</td>\n      <td>Day 18</td>\n      <td>4434</td>\n      <td>2014</td>\n    </tr>\n    <tr>\n      <th>3</th>\n      <td>DDD</td>\n      <td>Day 20</td>\n      <td>6272</td>\n      <td>2014 &amp; 2013</td>\n    </tr>\n    <tr>\n      <th>4</th>\n      <td>EEE</td>\n      <td>Day 33</td>\n      <td>2934</td>\n      <td>2014 &amp; 2013</td>\n    </tr>\n    <tr>\n      <th>5</th>\n      <td>FFF</td>\n      <td>Day 19</td>\n      <td>7762</td>\n      <td>2014 &amp; 2013</td>\n    </tr>\n    <tr>\n      <th>6</th>\n      <td>GGG</td>\n      <td>Day 61</td>\n      <td>2534</td>\n      <td>2014 &amp; 2013</td>\n    </tr>\n  </tbody>\n</table>\n</div>"
     },
     "execution_count": 18,
     "metadata": {},
     "output_type": "execute_result"
    }
   ],
   "source": [
    "assesments_pom_studentRegistration_pom_table.rename(columns = {\n",
    "    \"code_module\" : \"Course\",\n",
    "    \"date\" : \"1st assignment submission day\",\n",
    "    \"size\" : \"# of registered students\"\n",
    "})"
   ],
   "metadata": {
    "collapsed": false,
    "pycharm": {
     "name": "#%%\n"
    }
   }
  },
  {
   "cell_type": "code",
   "execution_count": 19,
   "outputs": [],
   "source": [
    "students_pom_1 = studentInfo[[\"id_student\", \"gender\", \"highest_education\", \"age_band\", \"num_of_prev_attempts\", \"disability\", \"final_result\"]]\n",
    "\n",
    "students_pom_2 = studentRegistration[[\"id_student\", \"date_registration\"]]\n",
    "\n",
    "students_pom_3 = studentVle[[\"id_student\", \"sum_click\"]]\n",
    "\n",
    "students_pom_4 = studentAssessment[[\"id_assessment\", \"score\", \"id_student\"]]\n",
    "\n",
    "students_pom_5 = assessments[[\"id_assessment\", \"date\"]]"
   ],
   "metadata": {
    "collapsed": false,
    "pycharm": {
     "name": "#%%\n"
    }
   }
  },
  {
   "cell_type": "code",
   "execution_count": 20,
   "outputs": [],
   "source": [
    "students_pom_12 = pd.merge(students_pom_1, students_pom_2, on = \"id_student\")\n",
    "\n",
    "students_pom_123 = pd.merge(students_pom_12, students_pom_3, on=\"id_student\")"
   ],
   "metadata": {
    "collapsed": false,
    "pycharm": {
     "name": "#%%\n"
    }
   }
  },
  {
   "cell_type": "code",
   "execution_count": 21,
   "outputs": [],
   "source": [
    "students_pom_45 = pd.merge(students_pom_4, students_pom_5, on=\"id_assessment\")\n",
    "students_pom_45 = students_pom_45.groupby(['id_student', 'score'], as_index = False)['date'].min().drop_duplicates().reset_index(drop=True)"
   ],
   "metadata": {
    "collapsed": false,
    "pycharm": {
     "name": "#%%\n"
    }
   }
  },
  {
   "cell_type": "code",
   "execution_count": null,
   "outputs": [],
   "source": [
    "students_pom = pd.merge(students_pom_123, students_pom_45, on = \"id_student\")\n",
    "print(students_pom)"
   ],
   "metadata": {
    "collapsed": false,
    "pycharm": {
     "name": "#%%\n",
     "is_executing": true
    }
   }
  },
  {
   "cell_type": "code",
   "execution_count": null,
   "outputs": [],
   "source": [
    "students_pom.replace({\"highest_education\" : \"A Level or Equivalent\"}, {\"highest_education\" : 1})\n",
    "students_pom.replace({\"highest_education\" : \"HE Qualification\"}, {\"highest_education\" : 1})\n",
    "students_pom.replace({\"highest_education\" : \"Post Graduate Qualification\"}, {\"highest_education\" : 1})\n",
    "students_pom.replace({\"highest_education\" : \"No Formal quals\"}, {\"highest_education\" : 0})\n",
    "students_pom.replace({\"highest_education\" : \"Lower Than A Level\"}, {\"highest_education\" : 0})"
   ],
   "metadata": {
    "collapsed": false,
    "pycharm": {
     "name": "#%%\n",
     "is_executing": true
    }
   }
  },
  {
   "cell_type": "code",
   "execution_count": null,
   "outputs": [],
   "source": [
    "students_pom.replace({\"age_band\" : \"0-35\"}, {\"age_band\" : 0})\n",
    "students_pom.replace({\"age_band\" : \"35-55\"}, {\"age_band\" : 1})\n",
    "students_pom.replace({\"age_band\" : \"55<=\"}, {\"age_band\" : 1})"
   ],
   "metadata": {
    "collapsed": false,
    "pycharm": {
     "name": "#%%\n",
     "is_executing": true
    }
   }
  },
  {
   "cell_type": "code",
   "execution_count": null,
   "outputs": [],
   "source": [
    "students_pom.replace({\"disability\" : \"Y\"}, {\"disability\" : 1})\n",
    "students_pom.replace({\"disability\" : \"N\"}, {\"disability\" : 0})"
   ],
   "metadata": {
    "collapsed": false,
    "pycharm": {
     "name": "#%%\n",
     "is_executing": true
    }
   }
  },
  {
   "cell_type": "code",
   "execution_count": null,
   "outputs": [],
   "source": [
    "students_pom.replace({\"gender\" : \"M\"}, {\"gender\" : 0})\n",
    "students_pom.replace({\"gender\" : \"F\"}, {\"gender\" : 1})"
   ],
   "metadata": {
    "collapsed": false,
    "pycharm": {
     "name": "#%%\n",
     "is_executing": true
    }
   }
  },
  {
   "cell_type": "code",
   "execution_count": null,
   "outputs": [],
   "source": [
    "assesments_pom_studentRegistration_pom_table.rename(columns = {\n",
    "    \"gender\" : \"Gender\",\n",
    "    \"highest_education\" : \"Educational Level\",\n",
    "    \"age_band\" : \"Age\",\n",
    "    \"num_of_prev_attempts\" : \"Previous Attempts\",\n",
    "    \"disability\" : \"Disability\",\n",
    "    \"score\" : \"First Assignment Mark\",\n",
    "    \"date\" : \"Registration Date\",\n",
    "    \"sum_click\" : \"Clicks till Course Starts\"\n",
    "})"
   ],
   "metadata": {
    "collapsed": false,
    "pycharm": {
     "name": "#%%\n",
     "is_executing": true
    }
   }
  },
  {
   "cell_type": "code",
   "execution_count": null,
   "outputs": [],
   "source": [
    "columns = [\"Gender\", \"Educational Level\", \"Age\", \"Previous Attempts\", \"Disability\", \"First Assignment Mark\", \"Registration Date\", \"Clicks till Course Starts\"]"
   ],
   "metadata": {
    "collapsed": false,
    "pycharm": {
     "name": "#%%\n",
     "is_executing": true
    }
   }
  },
  {
   "cell_type": "code",
   "execution_count": null,
   "outputs": [],
   "source": [
    "students_heat_map = sns.heatmap(students_pom[columns], annot = True, cbar = False)\n",
    "plt.ylabel(columns)\n",
    "plt.xlabel(columns)\n",
    "plt.show()"
   ],
   "metadata": {
    "collapsed": false,
    "pycharm": {
     "name": "#%%\n",
     "is_executing": true
    }
   }
  },
  {
   "cell_type": "code",
   "execution_count": null,
   "outputs": [],
   "source": [
    "final_result = []\n",
    "\n",
    "students_pom.replace({\"final_result\" : \"Withdraw\"}, {\"final_result\" : 0})\n",
    "students_pom.replace({\"final_result\" : \"Pass\"}, {\"final_result\" : 1})\n",
    "students_pom.replace({\"final_result\" : \"Fail\"}, {\"final_result\" : 2})\n",
    "students_pom.replace({\"final_result\" : \"Distinction\"}, {\"final_result\" : 3})\n",
    "\n",
    "x = students_pom[columns].copy()\n",
    "y = students_pom[\"final_result\"].copy()"
   ],
   "metadata": {
    "collapsed": false,
    "pycharm": {
     "name": "#%%\n",
     "is_executing": true
    }
   }
  },
  {
   "cell_type": "code",
   "execution_count": null,
   "outputs": [],
   "source": [
    "train_x, test_x, train_y, test_y = train_test_split(x, y, test_size=0.3)\n",
    "\n",
    "wthdraw_train_x = [train_x[i] for i, y in enumerate(train_y) if y == 0]\n",
    "pass_train_x = [train_x[i] for i, y in enumerate(train_y) if y == 1]\n",
    "fail_train_x = [train_x[i] for i, y in enumerate(train_y) if y == 2]\n",
    "distinction_train_x = [train_x[i] for i, y in enumerate(train_y) if y == 3]\n",
    "\n",
    "wthdraw_train_y = [train_y[i] for i, y in enumerate(train_y) if y == 0]\n",
    "pass_train_y = [train_y[i] for i, y in enumerate(train_y) if y == 1]\n",
    "fail_train_y = [train_y[i] for i, y in enumerate(train_y) if y == 2]\n",
    "distinction_train_y = [train_y[i] for i, y in enumerate(train_y) if y == 3]\n",
    "\n",
    "wthdraw_test_x =  [test_x[i] for i, y in enumerate(test_y) if y == 0]\n",
    "pass_test_x = [test_x[i] for i, y in enumerate(test_y) if y == 1]\n",
    "fail_test_x = [test_x[i] for i, y in enumerate(test_y) if y == 2]\n",
    "distinction_test_x = [test_x[i] for i, y in enumerate(test_y) if y == 3]\n",
    "\n",
    "wthdraw_test_y =  [test_y[i] for i, y in enumerate(test_y) if y == 0]\n",
    "pass_test_y = [test_y[i] for i, y in enumerate(test_y) if y == 1]\n",
    "fail_test_y = [test_y[i] for i, y in enumerate(test_y) if y == 2]\n",
    "distinction_test_y = [test_y[i] for i, y in enumerate(test_y) if y == 3]"
   ],
   "metadata": {
    "collapsed": false,
    "pycharm": {
     "name": "#%%\n",
     "is_executing": true
    }
   }
  },
  {
   "cell_type": "code",
   "execution_count": null,
   "outputs": [],
   "source": [
    "train_x_ = [wthdraw_train_x, pass_train_x, fail_train_x, distinction_train_x]\n",
    "\n",
    "train_y_ = [wthdraw_train_y, pass_train_y, fail_train_y, distinction_train_y]\n",
    "\n",
    "test_x_ = [wthdraw_test_x, pass_test_x, fail_test_x, distinction_test_x]\n",
    "\n",
    "test_y_ = [wthdraw_test_y, pass_test_y, fail_test_y, distinction_test_y]"
   ],
   "metadata": {
    "collapsed": false,
    "pycharm": {
     "name": "#%%\n",
     "is_executing": true
    }
   }
  },
  {
   "cell_type": "code",
   "execution_count": null,
   "outputs": [],
   "source": [
    "conf1 = [[0, 0], [0, 0]]\n",
    "conf2 = [[0, 0], [0, 0]]\n",
    "br = 0\n",
    "for (x1, x2), (y1, y2) in zip((train_x_, test_x_), (train_y_, test_y_)):\n",
    "    dtc = DecisionTreeClassifier().fit(x1, y1)\n",
    "    rfc = RandomForestClassifier().fit(x1, y1)\n",
    "\n",
    "    y_predicted_dtc = dtc.predict(x2)\n",
    "    y_predicted_rfc = rfc.predict(x2)\n",
    "\n",
    "    if br == 1:\n",
    "        conf1[0, 0] += np.sum(y_predicted_dtc == y2)\n",
    "        conf1[0, 1] += np.sum(y_predicted_dtc != y2)\n",
    "\n",
    "        conf2[0, 0] += np.sum(y_predicted_rfc == y2)\n",
    "        conf2[0, 1] += np.sum(y_predicted_rfc != y2)\n",
    "    else:\n",
    "        pom_sum1 = np.sum(y_predicted_dtc != 1)\n",
    "        conf1[1, 1] += np.sum(y_predicted_dtc != 1)\n",
    "        conf1[1, 0] += len(y2) - pom_sum1\n",
    "\n",
    "        pom_sum2 = np.sum(y_predicted_rfc != 1)\n",
    "        conf2[1, 1] += np.sum(y_predicted_rfc != 1)\n",
    "        conf2[1, 0] += len(y2) - pom_sum2\n",
    "\n",
    "    print(precision_score(y2, y_predicted_dtc))\n",
    "    print(precision_score(y2, y_predicted_rfc))\n",
    "\n",
    "    print(recall_score(y2, y_predicted_dtc))\n",
    "    print(recall_score(y2, y_predicted_rfc))\n",
    "\n",
    "    print(f1_score(y2, y_predicted_dtc))\n",
    "    print(f1_score(y2, y_predicted_rfc))\n",
    "\n",
    "    print(accuracy_score(y2, y_predicted_dtc))\n",
    "    print(accuracy_score(y2, y_predicted_rfc))\n"
   ],
   "metadata": {
    "collapsed": false,
    "pycharm": {
     "name": "#%%\n",
     "is_executing": true
    }
   }
  },
  {
   "cell_type": "code",
   "execution_count": null,
   "outputs": [],
   "source": [
    "print(conf1)"
   ],
   "metadata": {
    "collapsed": false,
    "pycharm": {
     "name": "#%%\n"
    }
   }
  },
  {
   "cell_type": "code",
   "execution_count": null,
   "outputs": [],
   "source": [
    "print(conf2)"
   ],
   "metadata": {
    "collapsed": false,
    "pycharm": {
     "name": "#%%\n"
    }
   }
  }
 ],
 "metadata": {
  "kernelspec": {
   "display_name": "Python 3",
   "language": "python",
   "name": "python3"
  },
  "language_info": {
   "codemirror_mode": {
    "name": "ipython",
    "version": 2
   },
   "file_extension": ".py",
   "mimetype": "text/x-python",
   "name": "python",
   "nbconvert_exporter": "python",
   "pygments_lexer": "ipython2",
   "version": "2.7.6"
  }
 },
 "nbformat": 4,
 "nbformat_minor": 0
}